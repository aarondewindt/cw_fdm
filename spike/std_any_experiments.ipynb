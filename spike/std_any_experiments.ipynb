{
 "cells": [
  {
   "cell_type": "markdown",
   "metadata": {},
   "source": [
    "# Dynamic typing in C++"
   ]
  },
  {
   "cell_type": "code",
   "execution_count": null,
   "metadata": {},
   "outputs": [],
   "source": [
    "#pragma cling add_include_path(\"../include\")\n",
    "#pragma cling add_include_path(\"../lib/eigen\")\n",
    "#pragma cling add_include_path(\"../lib/span/include\")\n",
    "#pragma cling add_include_path(\"../lib/fmt/include\")\n",
    "#pragma cling add_library_path(\"../cmake-build-debug\")\n",
    "#pragma cling load(\"libcw_sim\")\n",
    "#include \"std_any_experiments.hpp\""
   ]
  },
  {
   "cell_type": "markdown",
   "metadata": {},
   "source": [
    "## cw::sim::Variable"
   ]
  },
  {
   "cell_type": "code",
   "execution_count": null,
   "metadata": {},
   "outputs": [],
   "source": [
    "auto variable_db = cw::sim::VariableDatabase();\n",
    "auto mut_token = variable_db.create_mutable_token<f64>(\"foo\", 890.8);"
   ]
  },
  {
   "cell_type": "code",
   "execution_count": 2,
   "metadata": {},
   "outputs": [
    {
     "name": "stderr",
     "output_type": "stream",
     "text": [
      "\u001b[1minput_line_9:2:2: \u001b[0m\u001b[0;1;31merror: \u001b[0m\u001b[1muse of undeclared identifier 'mut_token'\u001b[0m\n",
      " mut_token.get()\n",
      "\u001b[0;1;32m ^\n",
      "\u001b[0m"
     ]
    },
    {
     "ename": "Interpreter Error",
     "evalue": "",
     "output_type": "error",
     "traceback": [
      "Interpreter Error: "
     ]
    }
   ],
   "source": [
    "mut_token.get()"
   ]
  },
  {
   "cell_type": "code",
   "execution_count": 4,
   "metadata": {},
   "outputs": [
    {
     "data": {
      "text/plain": [
       "234.34500"
      ]
     },
     "execution_count": 4,
     "metadata": {},
     "output_type": "execute_result"
    }
   ],
   "source": [
    "mut_token.set(234.345);\n",
    "mut_token.get()"
   ]
  },
  {
   "cell_type": "code",
   "execution_count": 5,
   "metadata": {},
   "outputs": [
    {
     "data": {
      "text/plain": [
       "982374.24"
      ]
     },
     "execution_count": 5,
     "metadata": {},
     "output_type": "execute_result"
    }
   ],
   "source": [
    "f64 new_value = 982374.2374723;\n",
    "mut_token.set(new_value);\n",
    "mut_token.get()"
   ]
  },
  {
   "cell_type": "code",
   "execution_count": 6,
   "metadata": {},
   "outputs": [
    {
     "ename": "Standard Exception",
     "evalue": "cw::sim::MultipleMutableTokensCreatedError: Only one mutable token may exist at a time.",
     "output_type": "error",
     "traceback": [
      "Standard Exception: cw::sim::MultipleMutableTokensCreatedError: Only one mutable token may exist at a time."
     ]
    }
   ],
   "source": [
    "auto mut_token_2 = variable_db.create_mutable_token<f64>(\"foo\", 984);"
   ]
  },
  {
   "cell_type": "code",
   "execution_count": 7,
   "metadata": {},
   "outputs": [],
   "source": [
    "auto imut_token = variable_db.create_immutable_token<f64>(\"foo\");"
   ]
  },
  {
   "cell_type": "code",
   "execution_count": 8,
   "metadata": {},
   "outputs": [
    {
     "data": {
      "text/plain": [
       "982374.24"
      ]
     },
     "execution_count": 8,
     "metadata": {},
     "output_type": "execute_result"
    }
   ],
   "source": [
    "imut_token.get()"
   ]
  },
  {
   "cell_type": "code",
   "execution_count": 9,
   "metadata": {},
   "outputs": [
    {
     "data": {
      "text/plain": [
       "\"double\""
      ]
     },
     "execution_count": 9,
     "metadata": {},
     "output_type": "execute_result"
    }
   ],
   "source": [
    "get_type_name(imut_token.type())"
   ]
  },
  {
   "cell_type": "code",
   "execution_count": 10,
   "metadata": {},
   "outputs": [],
   "source": [
    "auto imut_token_2 = variable_db.create_immutable_token<f64>(\"foo\");"
   ]
  },
  {
   "cell_type": "code",
   "execution_count": 11,
   "metadata": {},
   "outputs": [
    {
     "data": {
      "text/plain": [
       "999999.00"
      ]
     },
     "execution_count": 11,
     "metadata": {},
     "output_type": "execute_result"
    }
   ],
   "source": [
    "mut_token.set(999999);\n",
    "mut_token.get()"
   ]
  },
  {
   "cell_type": "code",
   "execution_count": 12,
   "metadata": {},
   "outputs": [
    {
     "data": {
      "text/plain": [
       "999999.00"
      ]
     },
     "execution_count": 12,
     "metadata": {},
     "output_type": "execute_result"
    }
   ],
   "source": [
    "imut_token_2.get()"
   ]
  },
  {
   "cell_type": "code",
   "execution_count": 13,
   "metadata": {},
   "outputs": [
    {
     "ename": "Standard Exception",
     "evalue": "cw::sim::TypeError: It's not possible to create a immutable token of type 'float'. Variable 'foo' is of type 'double'.",
     "output_type": "error",
     "traceback": [
      "Standard Exception: cw::sim::TypeError: It's not possible to create a immutable token of type 'float'. Variable 'foo' is of type 'double'."
     ]
    }
   ],
   "source": [
    "auto imut_token_3 = variable_db.create_immutable_token<f32>(\"foo\");"
   ]
  },
  {
   "cell_type": "code",
   "execution_count": 14,
   "metadata": {},
   "outputs": [],
   "source": [
    "mut_token.deactivate();"
   ]
  },
  {
   "cell_type": "code",
   "execution_count": 15,
   "metadata": {},
   "outputs": [
    {
     "data": {
      "text/plain": [
       "999999.00"
      ]
     },
     "execution_count": 15,
     "metadata": {},
     "output_type": "execute_result"
    }
   ],
   "source": [
    "mut_token.get()"
   ]
  },
  {
   "cell_type": "code",
   "execution_count": 16,
   "metadata": {},
   "outputs": [
    {
     "ename": "Standard Exception",
     "evalue": "cw::sim::MutatingVariableUsingDeactivatedMutableTokenError<double>: Mutating variable 'foo' using a 'cw::sim::MutableToken<double>' that has been deactivated.",
     "output_type": "error",
     "traceback": [
      "Standard Exception: cw::sim::MutatingVariableUsingDeactivatedMutableTokenError<double>: Mutating variable 'foo' using a 'cw::sim::MutableToken<double>' that has been deactivated."
     ]
    }
   ],
   "source": [
    "mut_token.set(9283749285.9203874);"
   ]
  },
  {
   "cell_type": "code",
   "execution_count": 17,
   "metadata": {},
   "outputs": [],
   "source": [
    "auto mut_token_3 = variable_db.create_mutable_token<f64>(\"foo\", 6513);"
   ]
  },
  {
   "cell_type": "code",
   "execution_count": 18,
   "metadata": {},
   "outputs": [
    {
     "data": {
      "text/plain": [
       "999999.00"
      ]
     },
     "execution_count": 18,
     "metadata": {},
     "output_type": "execute_result"
    }
   ],
   "source": [
    "mut_token_3.get()"
   ]
  },
  {
   "cell_type": "code",
   "execution_count": 19,
   "metadata": {},
   "outputs": [],
   "source": [
    "mut_token_3.deactivate()"
   ]
  },
  {
   "cell_type": "code",
   "execution_count": 20,
   "metadata": {},
   "outputs": [],
   "source": [
    "auto mut_token_4 = variable_db.create_mutable_token<f64>(\"foo\", 63218, true);"
   ]
  },
  {
   "cell_type": "code",
   "execution_count": 21,
   "metadata": {},
   "outputs": [
    {
     "data": {
      "text/plain": [
       "63218.000"
      ]
     },
     "execution_count": 21,
     "metadata": {},
     "output_type": "execute_result"
    }
   ],
   "source": [
    "mut_token_4.get()"
   ]
  },
  {
   "cell_type": "code",
   "execution_count": null,
   "metadata": {},
   "outputs": [],
   "source": []
  }
 ],
 "metadata": {
  "kernelspec": {
   "display_name": "C++17",
   "language": "C++17",
   "name": "xcpp17"
  },
  "language_info": {
   "codemirror_mode": "text/x-c++src",
   "file_extension": ".cpp",
   "mimetype": "text/x-c++src",
   "name": "c++",
   "version": "17"
  }
 },
 "nbformat": 4,
 "nbformat_minor": 4
}
