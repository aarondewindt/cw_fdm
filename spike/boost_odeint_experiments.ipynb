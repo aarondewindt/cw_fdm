{
 "cells": [
  {
   "cell_type": "markdown",
   "metadata": {},
   "source": [
    "# Boost odeint experiments\n",
    "This notebook contain simple experiments with odeint to figure out how it works. "
   ]
  },
  {
   "cell_type": "code",
   "execution_count": 1,
   "metadata": {},
   "outputs": [],
   "source": [
    "#include \"boost/numeric/odeint.hpp\"\n",
    "namespace odeint = boost::numeric::odeint;"
   ]
  },
  {
   "cell_type": "code",
   "execution_count": 2,
   "metadata": {},
   "outputs": [],
   "source": [
    "/* The type of container used to hold the state vector */\n",
    "typedef std::vector< double > state_type;"
   ]
  },
  {
   "cell_type": "code",
   "execution_count": 3,
   "metadata": {},
   "outputs": [],
   "source": [
    "const double gam = 0.15;"
   ]
  },
  {
   "cell_type": "code",
   "execution_count": 4,
   "metadata": {},
   "outputs": [],
   "source": [
    "void harmonic_oscillator(const state_type &x , state_type &dxdt , const double t)\n",
    "{\n",
    "    dxdt[0] = x[1];\n",
    "    dxdt[1] = -x[0] - gam*x[1];\n",
    "}"
   ]
  },
  {
   "cell_type": "code",
   "execution_count": 5,
   "metadata": {},
   "outputs": [
    {
     "name": "stdout",
     "output_type": "stream",
     "text": [
      "36\n"
     ]
    }
   ],
   "source": [
    "{\n",
    "    state_type x(2);\n",
    "    x[0] = 1.0; // start at x=1.0, p=0.0\n",
    "    x[1] = 0.0;\n",
    "\n",
    "    size_t steps = odeint::integrate( harmonic_oscillator ,\n",
    "                              x , 0.0 , 10.0 , 0.1 );\n",
    "\n",
    "    std::cout << steps << std::endl;\n",
    "}"
   ]
  },
  {
   "cell_type": "code",
   "execution_count": null,
   "metadata": {},
   "outputs": [],
   "source": []
  }
 ],
 "metadata": {
  "kernelspec": {
   "display_name": "C++17",
   "language": "C++17",
   "name": "xcpp17"
  },
  "language_info": {
   "codemirror_mode": "text/x-c++src",
   "file_extension": ".cpp",
   "mimetype": "text/x-c++src",
   "name": "c++",
   "version": "17"
  }
 },
 "nbformat": 4,
 "nbformat_minor": 4
}
